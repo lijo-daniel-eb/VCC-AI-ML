{
 "cells": [
  {
   "cell_type": "code",
   "execution_count": null,
   "metadata": {},
   "outputs": [],
   "source": [
    "import chromadb\n",
    "client = chromadb.Client()\n",
    "collection = client.get_or_create_collection(\"my_collection\")\n",
    "\n",
    "documents = [\n",
    "    {\"id\": \"1\", \"content\": \"Apple\"},\n",
    "    {\"id\": \"2\", \"content\": \"Banana\"},\n",
    "    {\"id\": \"3\", \"content\": \"Cherry\"},\n",
    "    {\"id\": \"4\", \"content\": \"Date\"},\n",
    "    {\"id\": \"5\", \"content\": \"Elderberry\"}\n",
    "]\n",
    "\n"
   ]
  },
  {
   "cell_type": "code",
   "execution_count": null,
   "metadata": {},
   "outputs": [],
   "source": [
    "results = collection.query(query_texts=[\"This is a document on fruits\"],\n",
    "                            n_results=2)\n",
    "print(results)"
   ]
  },
  {
   "cell_type": "code",
   "execution_count": null,
   "metadata": {},
   "outputs": [],
   "source": [
    "%pip install matplotlib\n",
    "import numpy as np\n",
    "\n",
    "import matplotlib.pyplot as plt\n",
    "import matplotlib.animation as animation\n",
    "\n",
    "# set up the figure with a dark background\n",
    "fig, ax = plt.subplots()\n",
    "fig.patch.set_facecolor(\"black\")\n",
    "ax.set_facecolor(\"black\")\n",
    "\n",
    "# remove axis ticks for a cleaner look\n",
    "ax.set_xticks([])\n",
    "ax.set_yticks([])\n",
    "\n",
    "# define the dimensions of the dot matrix\n",
    "cols, rows = 50, 30\n",
    "\n",
    "# initialize a matrix with random 0's and 1's\n",
    "data = np.random.randint(0, 2, (rows, cols))\n",
    "\n",
    "# display the matrix using a green colormap\n",
    "im = ax.imshow(data, cmap=\"Greens\", interpolation=\"nearest\")\n",
    "\n",
    "def update(frame):\n",
    "    global data\n",
    "    # simulate a falling dots effect:\n",
    "    # create a new row with random dots and remove the last row\n",
    "    new_row = np.random.randint(0, 2, (1, cols))\n",
    "    data = np.vstack([new_row, data[:-1, :]])\n",
    "    im.set_array(data)\n",
    "    return [im]\n",
    "\n",
    "# create and run the animation (adjust frames and interval as needed)\n",
    "ani = animation.FuncAnimation(fig, update, frames=200, interval=50, blit=True)\n",
    "plt.show()"
   ]
  }
 ],
 "metadata": {
  "kernelspec": {
   "display_name": "Python 3",
   "language": "python",
   "name": "python3"
  },
  "language_info": {
   "codemirror_mode": {
    "name": "ipython",
    "version": 3
   },
   "file_extension": ".py",
   "mimetype": "text/x-python",
   "name": "python",
   "nbconvert_exporter": "python",
   "pygments_lexer": "ipython3",
   "version": "3.11.9"
  }
 },
 "nbformat": 4,
 "nbformat_minor": 2
}
